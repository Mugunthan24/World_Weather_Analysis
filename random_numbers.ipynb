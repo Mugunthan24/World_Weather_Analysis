{
 "cells": [
  {
   "cell_type": "code",
   "execution_count": 38,
   "id": "0eaa5ee2",
   "metadata": {},
   "outputs": [],
   "source": [
    "# Import the random module\n",
    "import random"
   ]
  },
  {
   "cell_type": "code",
   "execution_count": 39,
   "id": "317c772e",
   "metadata": {},
   "outputs": [
    {
     "data": {
      "text/plain": [
       "-52"
      ]
     },
     "execution_count": 39,
     "metadata": {},
     "output_type": "execute_result"
    }
   ],
   "source": [
    "random.randint(-90,90)"
   ]
  },
  {
   "cell_type": "code",
   "execution_count": 40,
   "id": "34943c00",
   "metadata": {},
   "outputs": [
    {
     "data": {
      "text/plain": [
       "0.3619046362692787"
      ]
     },
     "execution_count": 40,
     "metadata": {},
     "output_type": "execute_result"
    }
   ],
   "source": [
    "random.random()"
   ]
  },
  {
   "cell_type": "code",
   "execution_count": 41,
   "id": "0b4026bd",
   "metadata": {},
   "outputs": [
    {
     "data": {
      "text/plain": [
       "[44.485896396507954,\n",
       " 32.15194096437652,\n",
       " -60.355787165554865,\n",
       " -36.598626692667665,\n",
       " -65.09137279059146,\n",
       " -2.050117654600445,\n",
       " -5.204275470996534,\n",
       " 49.83891535870511,\n",
       " 3.110554332174219,\n",
       " -54.49006775927571]"
      ]
     },
     "execution_count": 41,
     "metadata": {},
     "output_type": "execute_result"
    }
   ],
   "source": [
    "x = 1\n",
    "lattitudes = []\n",
    "while x < 11:\n",
    "    random_lat = random.randint(-90,89) + random.random()\n",
    "    lattitudes.append(random_lat)\n",
    "    x = x + 1\n",
    "\n",
    "lattitudes"
   ]
  },
  {
   "cell_type": "code",
   "execution_count": 42,
   "id": "0cf4f176",
   "metadata": {},
   "outputs": [],
   "source": [
    "# Import the NumPy module.\n",
    "import numpy as np"
   ]
  },
  {
   "cell_type": "code",
   "execution_count": 43,
   "id": "a573bb2e",
   "metadata": {},
   "outputs": [
    {
     "data": {
      "text/plain": [
       "-50.05808808869824"
      ]
     },
     "execution_count": 43,
     "metadata": {},
     "output_type": "execute_result"
    }
   ],
   "source": [
    "np.random.uniform(-90.000, 90.000) "
   ]
  },
  {
   "cell_type": "code",
   "execution_count": 44,
   "id": "4f33b466",
   "metadata": {},
   "outputs": [
    {
     "data": {
      "text/plain": [
       "83.55893912312334"
      ]
     },
     "execution_count": 44,
     "metadata": {},
     "output_type": "execute_result"
    }
   ],
   "source": [
    "np.random.uniform(low=-90, high=90)"
   ]
  },
  {
   "cell_type": "code",
   "execution_count": 45,
   "id": "6455fdf3",
   "metadata": {},
   "outputs": [
    {
     "data": {
      "text/plain": [
       "array([ 27.47937039,  14.30213525,  76.76044483, -12.98162094,\n",
       "       -15.12093054,  -7.00641106,  31.41085147, -39.09352879,\n",
       "       -18.19026663,  42.14957989, -86.63723075,  67.09711046,\n",
       "         3.22763266, -51.48435527, -73.90081015, -38.38457822,\n",
       "        71.40215211,  85.08912263,  61.96505715, -77.76870127,\n",
       "        24.08624371, -27.77953556, -31.68136168,  72.10637981,\n",
       "       -16.68897278,  12.95513401,  59.17535192,  74.52391115,\n",
       "       -85.27522559,   0.18882207,  25.74976849,  -2.02009046,\n",
       "        31.64773108,  66.72602774, -51.83522605, -88.82315382,\n",
       "        70.43700102,  32.62891668,  23.23422336,  -1.92802512,\n",
       "        32.4224786 ,  23.77817168, -32.21043091,   3.6286791 ,\n",
       "        78.66130475, -69.00299377, -25.9267307 ,  42.34769124,\n",
       "       -68.74840516,  22.68234538])"
      ]
     },
     "execution_count": 45,
     "metadata": {},
     "output_type": "execute_result"
    }
   ],
   "source": [
    "np.random.uniform(-90.000, 90.000, size=50)"
   ]
  },
  {
   "cell_type": "code",
   "execution_count": 46,
   "id": "57c3402b",
   "metadata": {},
   "outputs": [],
   "source": [
    "# Import timeit.\n",
    "import timeit"
   ]
  },
  {
   "cell_type": "code",
   "execution_count": 47,
   "id": "c2307da1",
   "metadata": {},
   "outputs": [
    {
     "name": "stdout",
     "output_type": "stream",
     "text": [
      "12.9 µs ± 285 ns per loop (mean ± std. dev. of 7 runs, 100000 loops each)\n"
     ]
    }
   ],
   "source": [
    "%timeit np.random.uniform(-90.000, 90.000, size=1500)"
   ]
  },
  {
   "cell_type": "code",
   "execution_count": 48,
   "id": "150b1464",
   "metadata": {},
   "outputs": [
    {
     "name": "stdout",
     "output_type": "stream",
     "text": [
      "1.58 ms ± 37.6 µs per loop (mean ± std. dev. of 7 runs, 1000 loops each)\n"
     ]
    }
   ],
   "source": [
    "def latitudes(size):\n",
    "    latitudes = []\n",
    "    x = 0\n",
    "    while x < (size):\n",
    "        random_lat = random.randint(-90, 90) + random.random()\n",
    "        latitudes.append(random_lat)\n",
    "        x += 1\n",
    "    return latitudes\n",
    "# Call the function with 1500.\n",
    "%timeit latitudes(1500)"
   ]
  },
  {
   "cell_type": "code",
   "execution_count": null,
   "id": "eb6646c9",
   "metadata": {},
   "outputs": [],
   "source": []
  }
 ],
 "metadata": {
  "kernelspec": {
   "display_name": "PythonData",
   "language": "python",
   "name": "pythondata"
  },
  "language_info": {
   "codemirror_mode": {
    "name": "ipython",
    "version": 3
   },
   "file_extension": ".py",
   "mimetype": "text/x-python",
   "name": "python",
   "nbconvert_exporter": "python",
   "pygments_lexer": "ipython3",
   "version": "3.7.11"
  }
 },
 "nbformat": 4,
 "nbformat_minor": 5
}
